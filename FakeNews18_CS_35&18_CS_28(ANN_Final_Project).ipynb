{
  "nbformat": 4,
  "nbformat_minor": 0,
  "metadata": {
    "colab": {
      "name": "FakeNews18-CS-35&18-CS-28(ANN Final Project).ipynb",
      "provenance": [],
      "collapsed_sections": []
    },
    "kernelspec": {
      "display_name": "Python 3",
      "name": "python3"
    },
    "language_info": {
      "name": "python"
    },
    "accelerator": "GPU"
  },
  "cells": [
    {
      "cell_type": "code",
      "metadata": {
        "colab": {
          "base_uri": "https://localhost:8080/"
        },
        "id": "BfDUnN9H60qX",
        "outputId": "7d9a06b7-8292-4f96-ae35-5ee9488fab19"
      },
      "source": [
        "from google.colab import drive\n",
        "drive.mount('/content/drive')"
      ],
      "execution_count": null,
      "outputs": [
        {
          "output_type": "stream",
          "text": [
            "Drive already mounted at /content/drive; to attempt to forcibly remount, call drive.mount(\"/content/drive\", force_remount=True).\n"
          ],
          "name": "stdout"
        }
      ]
    },
    {
      "cell_type": "code",
      "metadata": {
        "id": "KkO2hp6JejHq"
      },
      "source": [
        "import pandas as pd\n",
        "from tensorflow.keras.layers import Embedding,LSTM,Dense\n",
        "from tensorflow.keras.models import Sequential\n",
        "from tensorflow.keras.preprocessing.sequence import pad_sequences\n",
        "from tensorflow.keras.preprocessing.text import one_hot\n"
      ],
      "execution_count": null,
      "outputs": []
    },
    {
      "cell_type": "code",
      "metadata": {
        "id": "sD6dY_8KevGD"
      },
      "source": [
        "data=pd.read_csv('/content/drive/MyDrive/deeplearning/train.csv')"
      ],
      "execution_count": null,
      "outputs": []
    },
    {
      "cell_type": "code",
      "metadata": {
        "colab": {
          "base_uri": "https://localhost:8080/",
          "height": 203
        },
        "id": "9-MTFer6uWaL",
        "outputId": "e9cbf67f-2b19-4557-d251-7ba86afbcdba"
      },
      "source": [
        "data.head()"
      ],
      "execution_count": null,
      "outputs": [
        {
          "output_type": "execute_result",
          "data": {
            "text/html": [
              "<div>\n",
              "<style scoped>\n",
              "    .dataframe tbody tr th:only-of-type {\n",
              "        vertical-align: middle;\n",
              "    }\n",
              "\n",
              "    .dataframe tbody tr th {\n",
              "        vertical-align: top;\n",
              "    }\n",
              "\n",
              "    .dataframe thead th {\n",
              "        text-align: right;\n",
              "    }\n",
              "</style>\n",
              "<table border=\"1\" class=\"dataframe\">\n",
              "  <thead>\n",
              "    <tr style=\"text-align: right;\">\n",
              "      <th></th>\n",
              "      <th>id</th>\n",
              "      <th>title</th>\n",
              "      <th>author</th>\n",
              "      <th>text</th>\n",
              "      <th>label</th>\n",
              "    </tr>\n",
              "  </thead>\n",
              "  <tbody>\n",
              "    <tr>\n",
              "      <th>0</th>\n",
              "      <td>0</td>\n",
              "      <td>House Dem Aide: We Didn’t Even See Comey’s Let...</td>\n",
              "      <td>Darrell Lucus</td>\n",
              "      <td>House Dem Aide: We Didn’t Even See Comey’s Let...</td>\n",
              "      <td>1</td>\n",
              "    </tr>\n",
              "    <tr>\n",
              "      <th>1</th>\n",
              "      <td>1</td>\n",
              "      <td>FLYNN: Hillary Clinton, Big Woman on Campus - ...</td>\n",
              "      <td>Daniel J. Flynn</td>\n",
              "      <td>Ever get the feeling your life circles the rou...</td>\n",
              "      <td>0</td>\n",
              "    </tr>\n",
              "    <tr>\n",
              "      <th>2</th>\n",
              "      <td>2</td>\n",
              "      <td>Why the Truth Might Get You Fired</td>\n",
              "      <td>Consortiumnews.com</td>\n",
              "      <td>Why the Truth Might Get You Fired October 29, ...</td>\n",
              "      <td>1</td>\n",
              "    </tr>\n",
              "    <tr>\n",
              "      <th>3</th>\n",
              "      <td>3</td>\n",
              "      <td>15 Civilians Killed In Single US Airstrike Hav...</td>\n",
              "      <td>Jessica Purkiss</td>\n",
              "      <td>Videos 15 Civilians Killed In Single US Airstr...</td>\n",
              "      <td>1</td>\n",
              "    </tr>\n",
              "    <tr>\n",
              "      <th>4</th>\n",
              "      <td>4</td>\n",
              "      <td>Iranian woman jailed for fictional unpublished...</td>\n",
              "      <td>Howard Portnoy</td>\n",
              "      <td>Print \\nAn Iranian woman has been sentenced to...</td>\n",
              "      <td>1</td>\n",
              "    </tr>\n",
              "  </tbody>\n",
              "</table>\n",
              "</div>"
            ],
            "text/plain": [
              "   id  ... label\n",
              "0   0  ...     1\n",
              "1   1  ...     0\n",
              "2   2  ...     1\n",
              "3   3  ...     1\n",
              "4   4  ...     1\n",
              "\n",
              "[5 rows x 5 columns]"
            ]
          },
          "metadata": {
            "tags": []
          },
          "execution_count": 5
        }
      ]
    },
    {
      "cell_type": "code",
      "metadata": {
        "id": "eTNiKrNCkIkQ",
        "colab": {
          "base_uri": "https://localhost:8080/"
        },
        "outputId": "1c49c850-e21e-4d8b-dbf5-09f810370dd8"
      },
      "source": [
        "data.shape"
      ],
      "execution_count": null,
      "outputs": [
        {
          "output_type": "execute_result",
          "data": {
            "text/plain": [
              "(20800, 5)"
            ]
          },
          "metadata": {
            "tags": []
          },
          "execution_count": 6
        }
      ]
    },
    {
      "cell_type": "code",
      "metadata": {
        "id": "agcDY3fUuZOg"
      },
      "source": [
        "df=data.dropna()"
      ],
      "execution_count": null,
      "outputs": []
    },
    {
      "cell_type": "code",
      "metadata": {
        "id": "3rost4ESucTi",
        "colab": {
          "base_uri": "https://localhost:8080/"
        },
        "outputId": "5b2c272d-cc0d-4397-9c91-895690adf6ca"
      },
      "source": [
        "df.isnull().sum()"
      ],
      "execution_count": null,
      "outputs": [
        {
          "output_type": "execute_result",
          "data": {
            "text/plain": [
              "id        0\n",
              "title     0\n",
              "author    0\n",
              "text      0\n",
              "label     0\n",
              "dtype: int64"
            ]
          },
          "metadata": {
            "tags": []
          },
          "execution_count": 8
        }
      ]
    },
    {
      "cell_type": "code",
      "metadata": {
        "id": "IQx5STXvufBO"
      },
      "source": [
        "x=df.drop('label',axis=1)"
      ],
      "execution_count": null,
      "outputs": []
    },
    {
      "cell_type": "code",
      "metadata": {
        "id": "gkhWHSofumxR"
      },
      "source": [
        "y=df['label']"
      ],
      "execution_count": null,
      "outputs": []
    },
    {
      "cell_type": "code",
      "metadata": {
        "id": "IWqFN8X0vLPY"
      },
      "source": [
        "vocab_size=5000"
      ],
      "execution_count": null,
      "outputs": []
    },
    {
      "cell_type": "code",
      "metadata": {
        "id": "JReBfCYswPR-"
      },
      "source": [
        "news=x.copy()"
      ],
      "execution_count": null,
      "outputs": []
    },
    {
      "cell_type": "code",
      "metadata": {
        "id": "qN2LV539wccQ"
      },
      "source": [
        "news.reset_index(inplace=True)"
      ],
      "execution_count": null,
      "outputs": []
    },
    {
      "cell_type": "code",
      "metadata": {
        "id": "R9yNf_49wtD3"
      },
      "source": [
        "\n",
        "\n",
        "import nltk\n",
        "import re\n",
        "from nltk.corpus import stopwords"
      ],
      "execution_count": null,
      "outputs": []
    },
    {
      "cell_type": "code",
      "metadata": {
        "colab": {
          "base_uri": "https://localhost:8080/"
        },
        "id": "p6K8Glubw4ZO",
        "outputId": "16038fbf-caa7-42c4-9181-9c77efbdf0e4"
      },
      "source": [
        "nltk.download('stopwords')"
      ],
      "execution_count": null,
      "outputs": [
        {
          "output_type": "stream",
          "text": [
            "[nltk_data] Downloading package stopwords to /root/nltk_data...\n",
            "[nltk_data]   Unzipping corpora/stopwords.zip.\n"
          ],
          "name": "stdout"
        },
        {
          "output_type": "execute_result",
          "data": {
            "text/plain": [
              "True"
            ]
          },
          "metadata": {
            "tags": []
          },
          "execution_count": 15
        }
      ]
    },
    {
      "cell_type": "code",
      "metadata": {
        "colab": {
          "base_uri": "https://localhost:8080/",
          "height": 35
        },
        "id": "lljzo3NnxBWU",
        "outputId": "c87ab8d0-48cd-4c41-d895-e18f03776efa"
      },
      "source": [
        "news['title'][5]"
      ],
      "execution_count": null,
      "outputs": [
        {
          "output_type": "execute_result",
          "data": {
            "application/vnd.google.colaboratory.intrinsic+json": {
              "type": "string"
            },
            "text/plain": [
              "'Jackie Mason: Hollywood Would Love Trump if He Bombed North Korea over Lack of Trans Bathrooms (Exclusive Video) - Breitbart'"
            ]
          },
          "metadata": {
            "tags": []
          },
          "execution_count": 16
        }
      ]
    },
    {
      "cell_type": "code",
      "metadata": {
        "colab": {
          "base_uri": "https://localhost:8080/"
        },
        "id": "mPt60NyYxZ0o",
        "outputId": "9e0b4199-5bcc-48f0-d5f5-ca9c92430f01"
      },
      "source": [
        "from nltk.stem.porter import PorterStemmer\n",
        "stemmer=PorterStemmer()\n",
        "sentences=[]\n",
        "for i in range(0,len(news)):\n",
        "  sent=re.sub('[^A-Za-z]',' ',news['title'][i])\n",
        "  sent=sent.lower()\n",
        "  sent=sent.split()\n",
        "  sent=[stemmer.stem(word) for word in sent if word not in set(stopwords.words('english'))]\n",
        "  sent=' '.join(sent)\n",
        "  sentences.append(sent)\n",
        "sentences[1:10]"
      ],
      "execution_count": null,
      "outputs": [
        {
          "output_type": "execute_result",
          "data": {
            "text/plain": [
              "['flynn hillari clinton big woman campu breitbart',\n",
              " 'truth might get fire',\n",
              " 'civilian kill singl us airstrik identifi',\n",
              " 'iranian woman jail fiction unpublish stori woman stone death adulteri',\n",
              " 'jacki mason hollywood would love trump bomb north korea lack tran bathroom exclus video breitbart',\n",
              " 'beno hamon win french socialist parti presidenti nomin new york time',\n",
              " 'back channel plan ukrain russia courtesi trump associ new york time',\n",
              " 'obama organ action partner soro link indivis disrupt trump agenda',\n",
              " 'bbc comedi sketch real housew isi caus outrag']"
            ]
          },
          "metadata": {
            "tags": []
          },
          "execution_count": 17
        }
      ]
    },
    {
      "cell_type": "code",
      "metadata": {
        "colab": {
          "base_uri": "https://localhost:8080/"
        },
        "id": "Qk6CK8_1ymmm",
        "outputId": "ce0a49de-3e76-4acd-f8ec-d21064c202b1"
      },
      "source": [
        "onehotRep=[one_hot(word,vocab_size) for word in sentences]\n",
        "onehotRep[1:10]"
      ],
      "execution_count": null,
      "outputs": [
        {
          "output_type": "execute_result",
          "data": {
            "text/plain": [
              "[[4204, 1664, 2, 4048, 865, 3796, 4175],\n",
              " [1739, 3032, 4714, 3184],\n",
              " [2367, 2180, 3832, 4682, 3716, 1079],\n",
              " [3764, 865, 1776, 179, 4029, 262, 865, 620, 1379, 3220],\n",
              " [323,\n",
              "  1175,\n",
              "  2429,\n",
              "  357,\n",
              "  524,\n",
              "  1915,\n",
              "  4147,\n",
              "  2299,\n",
              "  2708,\n",
              "  3902,\n",
              "  417,\n",
              "  3156,\n",
              "  4404,\n",
              "  2058,\n",
              "  4175],\n",
              " [1525, 984, 518, 574, 1249, 2697, 4140, 1131, 1897, 282, 3252],\n",
              " [3452, 4767, 3426, 1680, 3473, 479, 1915, 557, 1897, 282, 3252],\n",
              " [929, 3637, 59, 3736, 899, 4554, 2159, 4543, 1915, 339],\n",
              " [941, 1201, 4981, 4725, 8, 3138, 1125, 1305]]"
            ]
          },
          "metadata": {
            "tags": []
          },
          "execution_count": 18
        }
      ]
    },
    {
      "cell_type": "code",
      "metadata": {
        "colab": {
          "base_uri": "https://localhost:8080/"
        },
        "id": "s0AiAB5RzZV1",
        "outputId": "2b5041b8-83be-498e-ab6e-ee1a09999aed"
      },
      "source": [
        "sentlen=20\n",
        "padSeq=pad_sequences(onehotRep,padding='pre',maxlen=sentlen)\n",
        "print(padSeq[1:10])"
      ],
      "execution_count": null,
      "outputs": [
        {
          "output_type": "stream",
          "text": [
            "[[   0    0    0    0    0    0    0    0    0    0    0    0    0 4204\n",
            "  1664    2 4048  865 3796 4175]\n",
            " [   0    0    0    0    0    0    0    0    0    0    0    0    0    0\n",
            "     0    0 1739 3032 4714 3184]\n",
            " [   0    0    0    0    0    0    0    0    0    0    0    0    0    0\n",
            "  2367 2180 3832 4682 3716 1079]\n",
            " [   0    0    0    0    0    0    0    0    0    0 3764  865 1776  179\n",
            "  4029  262  865  620 1379 3220]\n",
            " [   0    0    0    0    0  323 1175 2429  357  524 1915 4147 2299 2708\n",
            "  3902  417 3156 4404 2058 4175]\n",
            " [   0    0    0    0    0    0    0    0    0 1525  984  518  574 1249\n",
            "  2697 4140 1131 1897  282 3252]\n",
            " [   0    0    0    0    0    0    0    0    0 3452 4767 3426 1680 3473\n",
            "   479 1915  557 1897  282 3252]\n",
            " [   0    0    0    0    0    0    0    0    0    0  929 3637   59 3736\n",
            "   899 4554 2159 4543 1915  339]\n",
            " [   0    0    0    0    0    0    0    0    0    0    0    0  941 1201\n",
            "  4981 4725    8 3138 1125 1305]]\n"
          ],
          "name": "stdout"
        }
      ]
    },
    {
      "cell_type": "code",
      "metadata": {
        "colab": {
          "base_uri": "https://localhost:8080/"
        },
        "id": "ew5gj1LQ1iQT",
        "outputId": "3c120fb9-97ef-4996-9155-105d1c9ffbe0"
      },
      "source": [
        "embeddingFeature=40\n",
        "model=Sequential()\n",
        "model.add(Embedding(vocab_size,embeddingFeature,input_length=sentlen))\n",
        "model.add(LSTM(100))\n",
        "model.add(Dense(1,activation='sigmoid'))\n",
        "model.summary()"
      ],
      "execution_count": null,
      "outputs": [
        {
          "output_type": "stream",
          "text": [
            "Model: \"sequential\"\n",
            "_________________________________________________________________\n",
            "Layer (type)                 Output Shape              Param #   \n",
            "=================================================================\n",
            "embedding (Embedding)        (None, 20, 40)            200000    \n",
            "_________________________________________________________________\n",
            "lstm (LSTM)                  (None, 100)               56400     \n",
            "_________________________________________________________________\n",
            "dense (Dense)                (None, 1)                 101       \n",
            "=================================================================\n",
            "Total params: 256,501\n",
            "Trainable params: 256,501\n",
            "Non-trainable params: 0\n",
            "_________________________________________________________________\n"
          ],
          "name": "stdout"
        }
      ]
    },
    {
      "cell_type": "code",
      "metadata": {
        "id": "vJHgPpXt2UKd"
      },
      "source": [
        "model.compile(loss='binary_crossentropy',optimizer='adam',metrics=['accuracy'])"
      ],
      "execution_count": null,
      "outputs": []
    },
    {
      "cell_type": "code",
      "metadata": {
        "id": "bCG4lJTu3HWK"
      },
      "source": [
        "import numpy as np\n",
        "X_final=np.array(padSeq)\n",
        "y_final=np.array(y)"
      ],
      "execution_count": null,
      "outputs": []
    },
    {
      "cell_type": "code",
      "metadata": {
        "id": "85h7JOLH2kKD"
      },
      "source": [
        "from sklearn.model_selection import train_test_split"
      ],
      "execution_count": null,
      "outputs": []
    },
    {
      "cell_type": "code",
      "metadata": {
        "id": "pb0qDg7O2xeQ"
      },
      "source": [
        "X_train,X_test,y_train,y_test=train_test_split(X_final,y_final,test_size=0.33,random_state=42)"
      ],
      "execution_count": null,
      "outputs": []
    },
    {
      "cell_type": "code",
      "metadata": {
        "colab": {
          "base_uri": "https://localhost:8080/"
        },
        "id": "btJWmhTA3kGt",
        "outputId": "52932312-3013-4c16-c3ed-f1f36a214773"
      },
      "source": [
        "print('Train data shape: ',X_train.shape)\n",
        "print('\\nTest data shape: ',X_test.shape)"
      ],
      "execution_count": null,
      "outputs": [
        {
          "output_type": "stream",
          "text": [
            "Train data shape:  (12250, 20)\n",
            "\n",
            "Test data shape:  (6035, 20)\n"
          ],
          "name": "stdout"
        }
      ]
    },
    {
      "cell_type": "code",
      "metadata": {
        "colab": {
          "base_uri": "https://localhost:8080/"
        },
        "id": "1X-UYB3-3mGb",
        "outputId": "af6141d3-ef5d-4c30-b7f3-cf9e4ad896fa"
      },
      "source": [
        "X_test.shape"
      ],
      "execution_count": null,
      "outputs": [
        {
          "output_type": "execute_result",
          "data": {
            "text/plain": [
              "(6035, 20)"
            ]
          },
          "metadata": {
            "tags": []
          },
          "execution_count": 26
        }
      ]
    },
    {
      "cell_type": "code",
      "metadata": {
        "colab": {
          "base_uri": "https://localhost:8080/"
        },
        "id": "4xLBfrB63opX",
        "outputId": "004c9e78-e8e5-47f2-b396-d04619152f83"
      },
      "source": [
        "history=model.fit(X_train,y_train,validation_data=(X_test,y_test),epochs=10,batch_size=64)"
      ],
      "execution_count": null,
      "outputs": [
        {
          "output_type": "stream",
          "text": [
            "Epoch 1/10\n",
            "192/192 [==============================] - 10s 10ms/step - loss: 0.3306 - accuracy: 0.8401 - val_loss: 0.1961 - val_accuracy: 0.9193\n",
            "Epoch 2/10\n",
            "192/192 [==============================] - 2s 8ms/step - loss: 0.1389 - accuracy: 0.9467 - val_loss: 0.1890 - val_accuracy: 0.9225\n",
            "Epoch 3/10\n",
            "192/192 [==============================] - 2s 8ms/step - loss: 0.0947 - accuracy: 0.9657 - val_loss: 0.2407 - val_accuracy: 0.9220\n",
            "Epoch 4/10\n",
            "192/192 [==============================] - 2s 8ms/step - loss: 0.0697 - accuracy: 0.9749 - val_loss: 0.2523 - val_accuracy: 0.9117\n",
            "Epoch 5/10\n",
            "192/192 [==============================] - 2s 8ms/step - loss: 0.0471 - accuracy: 0.9849 - val_loss: 0.2740 - val_accuracy: 0.9095\n",
            "Epoch 6/10\n",
            "192/192 [==============================] - 2s 8ms/step - loss: 0.0260 - accuracy: 0.9925 - val_loss: 0.3481 - val_accuracy: 0.9056\n",
            "Epoch 7/10\n",
            "192/192 [==============================] - 2s 8ms/step - loss: 0.0185 - accuracy: 0.9944 - val_loss: 0.3959 - val_accuracy: 0.9162\n",
            "Epoch 8/10\n",
            "192/192 [==============================] - 2s 8ms/step - loss: 0.0128 - accuracy: 0.9971 - val_loss: 0.3648 - val_accuracy: 0.9107\n",
            "Epoch 9/10\n",
            "192/192 [==============================] - 2s 8ms/step - loss: 0.0106 - accuracy: 0.9977 - val_loss: 0.5487 - val_accuracy: 0.9123\n",
            "Epoch 10/10\n",
            "192/192 [==============================] - 2s 8ms/step - loss: 0.0066 - accuracy: 0.9983 - val_loss: 0.5371 - val_accuracy: 0.9118\n"
          ],
          "name": "stdout"
        }
      ]
    },
    {
      "cell_type": "code",
      "metadata": {
        "id": "z_pwiBiE05Wp"
      },
      "source": [
        "model.save('/content/drive/MyDrive/FakeNews/FakeNews.h5')"
      ],
      "execution_count": null,
      "outputs": []
    },
    {
      "cell_type": "code",
      "metadata": {
        "id": "1O_yUub8azEO"
      },
      "source": [
        ""
      ],
      "execution_count": null,
      "outputs": []
    },
    {
      "cell_type": "code",
      "metadata": {
        "id": "ynvkBvm54Kfl"
      },
      "source": [
        "import matplotlib.pyplot as plt"
      ],
      "execution_count": null,
      "outputs": []
    },
    {
      "cell_type": "code",
      "metadata": {
        "colab": {
          "base_uri": "https://localhost:8080/",
          "height": 545
        },
        "id": "F91XpwAe4RKt",
        "outputId": "97501fbf-dde4-4c24-9e97-8a5d43fe9414"
      },
      "source": [
        "plt.plot(history.history['accuracy'],color='r')\n",
        "plt.plot(history.history['val_accuracy'],color='g')\n",
        "plt.title('Training VS Validation Accuracy Red--> Training, Green-->Validation')\n",
        "plt.show()\n",
        "plt.figure()\n",
        "plt.plot(history.history['loss'],color='r')\n",
        "plt.plot(history.history['val_loss'],color='g')\n",
        "plt.title('Training VS Validation Loss Red--> Training, Green-->Validation')\n",
        "plt.show()"
      ],
      "execution_count": null,
      "outputs": [
        {
          "output_type": "display_data",
          "data": {
            "image/png": "[encoded data removed]",
            "text/plain": [
              "<Figure size 432x288 with 1 Axes>"
            ]
          },
          "metadata": {
            "tags": [],
            "needs_background": "light"
          }
        },
        {
          "output_type": "display_data",
          "data": {
            "image/png": "[encoded data removed]",
            "text/plain": [
              "<Figure size 432x288 with 1 Axes>"
            ]
          },
          "metadata": {
            "tags": [],
            "needs_background": "light"
          }
        }
      ]
    },
    {
      "cell_type": "code",
      "metadata": {
        "id": "B0FszSO84_EN"
      },
      "source": [
        "from sklearn.metrics import confusion_matrix,accuracy_score,classification_report\n",
        "import seaborn as sas"
      ],
      "execution_count": null,
      "outputs": []
    },
    {
      "cell_type": "code",
      "metadata": {
        "id": "-nEM1uhyYBvl"
      },
      "source": [
        "#Prediction is in probability of news being real, so converting into classes\n",
        "# Class 0 (Fake) if predicted prob < 0.5, else class 1 (Real)\n",
        "y_pred = (model.predict(X_test) >= 0.5).astype(\"int\")"
      ],
      "execution_count": null,
      "outputs": []
    },
    {
      "cell_type": "code",
      "metadata": {
        "colab": {
          "base_uri": "https://localhost:8080/"
        },
        "id": "-u4VcwyIYBvl",
        "outputId": "1955374d-88cd-4be7-b6cc-9b9123902f5f"
      },
      "source": [
        "accuracy_score(y_test, y_pred)"
      ],
      "execution_count": null,
      "outputs": [
        {
          "output_type": "execute_result",
          "data": {
            "text/plain": [
              "0.911847555923778"
            ]
          },
          "metadata": {
            "tags": []
          },
          "execution_count": 33
        }
      ]
    },
    {
      "cell_type": "code",
      "metadata": {
        "colab": {
          "base_uri": "https://localhost:8080/"
        },
        "id": "gcWWpUVKYBvl",
        "outputId": "6feaf41e-a119-4373-9e67-8f64a6100bef"
      },
      "source": [
        "print(classification_report(y_test, y_pred))"
      ],
      "execution_count": null,
      "outputs": [
        {
          "output_type": "stream",
          "text": [
            "              precision    recall  f1-score   support\n",
            "\n",
            "           0       0.94      0.90      0.92      3419\n",
            "           1       0.88      0.92      0.90      2616\n",
            "\n",
            "    accuracy                           0.91      6035\n",
            "   macro avg       0.91      0.91      0.91      6035\n",
            "weighted avg       0.91      0.91      0.91      6035\n",
            "\n"
          ],
          "name": "stdout"
        }
      ]
    },
    {
      "cell_type": "code",
      "metadata": {
        "colab": {
          "base_uri": "https://localhost:8080/"
        },
        "id": "sVWW7hNjYBvl",
        "outputId": "93af1ac1-3d7e-4296-edea-9de08c9289a4"
      },
      "source": [
        "cm = confusion_matrix(y_test, y_pred)\n",
        "cm"
      ],
      "execution_count": null,
      "outputs": [
        {
          "output_type": "execute_result",
          "data": {
            "text/plain": [
              "array([[3089,  330],\n",
              "       [ 202, 2414]])"
            ]
          },
          "metadata": {
            "tags": []
          },
          "execution_count": 35
        }
      ]
    },
    {
      "cell_type": "code",
      "metadata": {
        "colab": {
          "base_uri": "https://localhost:8080/",
          "height": 459
        },
        "id": "GVy4cs_fYBvl",
        "outputId": "37a7ecd3-e4db-4c68-a7d2-ef576c6ba836"
      },
      "source": [
        "plt.figure(figsize=(10,7))\n",
        "sas.heatmap(cm, annot=True,cmap='GnBu_r')\n",
        "plt.xlabel('Predicted')\n",
        "plt.ylabel('Truth')"
      ],
      "execution_count": null,
      "outputs": [
        {
          "output_type": "execute_result",
          "data": {
            "text/plain": [
              "Text(69.0, 0.5, 'Truth')"
            ]
          },
          "metadata": {
            "tags": []
          },
          "execution_count": 36
        },
        {
          "output_type": "display_data",
          "data": {
            "image/png": "[encoded data removed]",
            "text/plain": [
              "<Figure size 720x504 with 2 Axes>"
            ]
          },
          "metadata": {
            "tags": [],
            "needs_background": "light"
          }
        }
      ]
    },
    {
      "cell_type": "code",
      "metadata": {
        "id": "9ZUUTZOH1nje"
      },
      "source": [
        "from tensorflow.keras.models import load_model\n",
        "model=load_model('/content/drive/MyDrive/FakeNews/FakeNews.h5')"
      ],
      "execution_count": null,
      "outputs": []
    },
    {
      "cell_type": "code",
      "metadata": {
        "id": "xhhtV5-C6KC6"
      },
      "source": [
        "def TestNews(new):\n",
        "  sent=re.sub('[^A-Za-z]',' ',new)\n",
        "  sent=sent.lower()\n",
        "  sent=sent.split()\n",
        "  sent=[stemmer.stem(word) for word in sent if word not in set(stopwords.words('english'))]\n",
        "  sent=' '.join(sent)\n",
        "  ohRep=[one_hot(sent,vocab_size)] #one hot representation\n",
        "  pSeq=pad_sequences(ohRep,padding='pre',maxlen=sentlen)\n",
        "  d=np.array(pSeq)\n",
        "  predVal=model.predict(d)\n",
        "  if predVal<0.5:\n",
        "    return 'Fake',predVal[0][0]\n",
        "  else:\n",
        "    return 'True',predVal[0][0]"
      ],
      "execution_count": null,
      "outputs": []
    },
    {
      "cell_type": "code",
      "metadata": {
        "colab": {
          "base_uri": "https://localhost:8080/"
        },
        "id": "X7tAwNtO57_w",
        "outputId": "5607fed5-70ac-4b03-ab41-89f40b6448b9"
      },
      "source": [
        "new=str(input('Enter News: '))\n",
        "res,pred=TestNews(new)\n",
        "print('The news is : ',res)\n",
        "print('Prediction Value',pred)"
      ],
      "execution_count": null,
      "outputs": [
        {
          "output_type": "stream",
          "text": [
            "Enter News: Samsung, After Combustible Galaxy Note 7, Unveils New Smartphone - The New York Times\n",
            "The news is :  Fake\n",
            "Prediction Value 8.2422695e-05\n"
          ],
          "name": "stdout"
        }
      ]
    },
    {
      "cell_type": "code",
      "metadata": {
        "colab": {
          "base_uri": "https://localhost:8080/",
          "height": 35
        },
        "id": "0o96geT1GZwl",
        "outputId": "b64ee5d7-f17f-4afa-f973-2d9987865e17"
      },
      "source": [
        "#Some cases\n",
        "'Nukes and the UN: a Historic Treaty to Ban Nuclear Weapons'\n",
        "#label=1\n",
        "'Samsung, After Combustible Galaxy Note 7, Unveils New Smartphone - The New York Times'\n",
        "#label=0\n",
        "'Sparking An Inner Revolution'\n",
        "#label=1\n",
        "'Mindful Eating as Way to Fight Bingeing - The New York Times'\n",
        "#label=0"
      ],
      "execution_count": null,
      "outputs": [
        {
          "output_type": "execute_result",
          "data": {
            "application/vnd.google.colaboratory.intrinsic+json": {
              "type": "string"
            },
            "text/plain": [
              "'Mindful Eating as Way to Fight Bingeing - The New York Times'"
            ]
          },
          "metadata": {
            "tags": []
          },
          "execution_count": 40
        }
      ]
    },
    {
      "cell_type": "code",
      "metadata": {
        "id": "Z2pxPU-x0dF4"
      },
      "source": [
        ""
      ],
      "execution_count": null,
      "outputs": []
    }
  ]
}